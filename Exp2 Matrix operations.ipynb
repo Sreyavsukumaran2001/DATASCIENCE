{
 "cells": [
  {
   "cell_type": "code",
   "execution_count": 4,
   "id": "db1d2582",
   "metadata": {},
   "outputs": [
    {
     "name": "stdout",
     "output_type": "stream",
     "text": [
      "Addition:\n",
      "[[ 6  8]\n",
      " [10 12]]\n",
      "\n",
      "Substraction:\n",
      "[[-4 -4]\n",
      " [-4 -4]]\n",
      "\n",
      " Element wise multiplication:\n",
      "[[ 5 12]\n",
      " [21 32]]\n",
      "\n",
      " Matrix multiplication:\n",
      "[[19 22]\n",
      " [43 50]]\n",
      "\n",
      "Transpose:\n",
      "[[1 3]\n",
      " [2 4]]\n"
     ]
    }
   ],
   "source": [
    "import numpy as np\n",
    "#create matrix\n",
    "A=np.array([[1,2],[3,4]])\n",
    "B=np.array([[5,6],[7,8]])\n",
    "#addition\n",
    "C=A+B\n",
    "#SUBSTRACTION\n",
    "D=A-B\n",
    "#MATRIX MULTIPLICATION(ELEMENY WISE)\n",
    "E=A*B\n",
    "#MATRIX MULTIPLICATION\n",
    "F=np.dot(A,B)\n",
    "#A@B\n",
    "#TRANSPOSE\n",
    "A_transpose=A.T\n",
    "print(\"Addition:\")\n",
    "print(C)\n",
    "print(\"\\nSubstraction:\")\n",
    "print(D)\n",
    "print(\"\\n Element wise multiplication:\")\n",
    "print(E)\n",
    "print(\"\\n Matrix multiplication:\")\n",
    "print(F)\n",
    "print(\"\\nTranspose:\")\n",
    "print(A_transpose)"
   ]
  },
  {
   "cell_type": "code",
   "execution_count": null,
   "id": "30c6576a",
   "metadata": {},
   "outputs": [],
   "source": []
  }
 ],
 "metadata": {
  "kernelspec": {
   "display_name": "Python 3 (ipykernel)",
   "language": "python",
   "name": "python3"
  },
  "language_info": {
   "codemirror_mode": {
    "name": "ipython",
    "version": 3
   },
   "file_extension": ".py",
   "mimetype": "text/x-python",
   "name": "python",
   "nbconvert_exporter": "python",
   "pygments_lexer": "ipython3",
   "version": "3.11.4"
  }
 },
 "nbformat": 4,
 "nbformat_minor": 5
}
